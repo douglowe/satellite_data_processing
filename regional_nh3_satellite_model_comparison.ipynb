{
 "cells": [
  {
   "cell_type": "markdown",
   "metadata": {},
   "source": [
    "## Regional Satellite / WRF-Chem comparison script"
   ]
  },
  {
   "cell_type": "code",
   "execution_count": 1,
   "metadata": {},
   "outputs": [],
   "source": [
    "import matplotlib.pyplot as plt\n",
    "import matplotlib.cm as cmx\n",
    "import matplotlib.colors as colors\n",
    "from matplotlib import ticker\n",
    "from matplotlib import interactive\n",
    "interactive(True)\n",
    "\n",
    "import xarray as xr\n",
    "import numpy as np\n",
    "import pandas as pd\n",
    "\n",
    "from scipy import stats\n"
   ]
  },
  {
   "cell_type": "code",
   "execution_count": 2,
   "metadata": {},
   "outputs": [],
   "source": [
    "# loads column and lat/lon data, and converts to panda array.\n",
    "#    This includes copying the time index to our model data, because\n",
    "#    I had not added this to the model netcdf files when creating them.\n",
    "def load_create_dataframe(sat_datadask,model_datadask):\n",
    "\n",
    "    sat_col_data = sat_datadask.column.copy(deep=True)\n",
    "    sat_error_data = sat_datadask.error.copy(deep=True)\n",
    "    sat_vprof_data = sat_datadask.VertProf.copy(deep=True)\n",
    "    sat_clcov_data = sat_datadask.CLcov.copy(deep=True)\n",
    "    sat_angle_data = sat_datadask.angle.copy(deep=True)\n",
    "    lat_data = sat_datadask.latitude.copy(deep=True)\n",
    "    lon_data = sat_datadask.longitude.copy(deep=True)\n",
    "    \n",
    "    # convert from xarray to pandas dataframe\n",
    "    cold = sat_col_data.to_dataframe()\n",
    "    errd = sat_error_data.to_dataframe()\n",
    "    verd = sat_vprof_data.to_dataframe()\n",
    "    clcd = sat_clcov_data.to_dataframe()\n",
    "    angd = sat_angle_data.to_dataframe()\n",
    "    latd = lat_data.to_dataframe()\n",
    "    lond = lon_data.to_dataframe()\n",
    " \n",
    "    # pull out time from the satellite data\n",
    "    sat_time_data = satellite_datadask.time.copy(deep=True)\n",
    "    sat_time = sat_time_data.to_dataframe().reset_index(drop=True)\n",
    "    \n",
    "    # load and add time to the model data\n",
    "    model_data = model_datadask.nh3.copy(deep=True)\n",
    "    model = model_data.to_dataframe().reset_index(drop=True)\n",
    "    model_time = pd.concat([sat_time,model],axis=1,sort=False)\n",
    "    modd = model_time.set_index('time')\n",
    "    \n",
    "    result = pd.concat([modd,cold,errd,verd,clcd,angd,latd,lond], axis=1, sort=False)\n",
    "\n",
    "    return result"
   ]
  },
  {
   "cell_type": "markdown",
   "metadata": {},
   "source": [
    "#### Load satellite and model data\n",
    "\n",
    "The 'time' index in the satellite data is 'UTC time of acquisition', in units 'HHMMSS.ms', so I think that we need to be careful to only load data for a single day at a time for this processing. Otherwise the coordinate system could become confused by duplicate values for each day. This doesn't matter for the global satellite data plots, but for this work we are merging model and satellite data, and so we need to be more careful with indexing."
   ]
  },
  {
   "cell_type": "code",
   "execution_count": 3,
   "metadata": {},
   "outputs": [],
   "source": [
    "satellite_file_path = '/Volumes/Work_Space/Clearflo/satellite_data/'\n",
    "model_file_path = '/Volumes/Work_Space/Clearflo/model_column_data/'\n",
    "date_string = '20120812_*'\n",
    "satellite_datadask = xr.open_mfdataset(satellite_file_path+'nh3nn_v2_2_'+date_string+'.nc')\n",
    "model_datadask = xr.open_mfdataset(model_file_path+'Ammonia_Column_'+date_string+'_gasphase_chemistry.nc')"
   ]
  },
  {
   "cell_type": "code",
   "execution_count": 4,
   "metadata": {},
   "outputs": [
    {
     "name": "stderr",
     "output_type": "stream",
     "text": [
      "/Users/mbessdl2/anaconda3/envs/iris/lib/python3.6/site-packages/xarray/coding/variables.py:135: FutureWarning: elementwise comparison failed; returning scalar instead, but in the future will perform elementwise comparison\n",
      "  condition |= data == fv\n"
     ]
    }
   ],
   "source": [
    "work_data = load_create_dataframe(satellite_datadask,model_datadask)"
   ]
  },
  {
   "cell_type": "markdown",
   "metadata": {},
   "source": [
    "### Data cleaning and sorting\n",
    "\n",
    "Cleaning:\n",
    "* I drop any NaN's in the data (both to zoom into the model domain, as work_data.nh3 will be NaN outside of this, and to get rid of the missing values in the satellite data, where work_data.column is a NaN). \n",
    "* I also get rid of the negative satellite values (simply by locating all lines where column > 0.0)\n",
    "\n",
    "Sorting.\n",
    "\n",
    "Main categories:\n",
    "* cd_all:  all co-located model/satellite data\n",
    "* cd_land: all retrievals flagged as land-based\n",
    "* cd_sea:  all retrievals flagged as sea-based\n",
    "* cd_high: satellite zenith angles < 10 degrees\n",
    "* cd_low:  satellite zenith angles > 45 degrees\n",
    "\n",
    "Combined categories:\n",
    "* cd_sea_low\n",
    "* cd_sea_high\n",
    "* cd_land_low\n",
    "* cd_land_high"
   ]
  },
  {
   "cell_type": "code",
   "execution_count": 5,
   "metadata": {},
   "outputs": [],
   "source": [
    "clean_data = work_data.dropna()\n",
    "clean_data_extra = clean_data.loc[clean_data['column']>0.0]\n",
    "#cd2 = clean_data_extra.reset_index()\n",
    "#cd_all = cd2.set_index(['VertProf','time'])\n",
    "#cd_land = cd_all.loc(axis=0)[1]\n",
    "#cd_sea  = cd_all.loc(axis=0)[0]\n",
    "cd_all  = clean_data_extra\n",
    "cd_land = cd_all.loc[cd_all['VertProf']==1]\n",
    "cd_sea  = cd_all.loc[cd_all['VertProf']==0]\n",
    "cd_high = cd_all.loc[cd_all['angle']<10]\n",
    "cd_low  = cd_all.loc[cd_all['angle']>45]\n",
    "\n",
    "cd_sea_high = cd_sea.loc[cd_sea['angle']<10]\n",
    "cd_land_high = cd_land.loc[cd_land['angle']<10]\n",
    "cd_sea_low = cd_sea.loc[cd_sea['angle']>45]\n",
    "cd_land_low = cd_land.loc[cd_land['angle']>45]"
   ]
  },
  {
   "cell_type": "code",
   "execution_count": 6,
   "metadata": {
    "scrolled": true
   },
   "outputs": [
    {
     "name": "stdout",
     "output_type": "stream",
     "text": [
      "For  clean_data, with negative values\n",
      "  count is: 2830\n",
      "  slope is: 0.04442704489807064\n",
      "  r-squared: 0.0116133978060563\n",
      "For  cd_all, without negative values\n",
      "  count is: 1808\n",
      "  slope is: 0.09598993051407624\n",
      "  r-squared: 0.03570603060073805\n",
      "For  cd_land\n",
      "  count is: 923\n",
      "  slope is: 0.11358417793628765\n",
      "  r-squared: 0.06750261383953217\n",
      "For  cd_sea\n",
      "  count is: 885\n",
      "  slope is: 0.11102022356098375\n",
      "  r-squared: 0.027003923893658906\n",
      "For  cd_high\n",
      "  count is: 259\n",
      "  slope is: 0.22916528505897815\n",
      "  r-squared: 0.18640363324884568\n",
      "For  cd_low\n",
      "  count is: 448\n",
      "  slope is: 0.19208002070945562\n",
      "  r-squared: 0.11582917633763615\n",
      "For  cd_sea_high\n",
      "  count is: 79\n",
      "  slope is: 0.16061932139262522\n",
      "  r-squared: 0.11933763771439394\n",
      "For  cd_sea_low\n",
      "  count is: 300\n",
      "  slope is: 0.09431804644129314\n",
      "  r-squared: 0.016626396243348003\n",
      "For  cd_land_high\n",
      "  count is: 180\n",
      "  slope is: 0.1835482370099715\n",
      "  r-squared: 0.13765463343433182\n",
      "For  cd_land_low\n",
      "  count is: 148\n",
      "  slope is: 0.21031790558246813\n",
      "  r-squared: 0.14558309283762375\n"
     ]
    }
   ],
   "source": [
    "def stat_report(dataset,dataname):\n",
    "    slope, intercept, r_value, p_value, std_err = stats.linregress(dataset.column,dataset.nh3)\n",
    "    print(\"For \",dataname)\n",
    "    print(\"  count is:\", dataset.column.count())\n",
    "    print(\"  slope is:\", slope)\n",
    "    print(\"  r-squared:\", r_value**2)\n",
    "\n",
    "\n",
    "stat_report(clean_data,\"clean_data, with negative values\")\n",
    "stat_report(cd_all,\"cd_all, without negative values\")\n",
    "stat_report(cd_land,\"cd_land\")\n",
    "stat_report(cd_sea,\"cd_sea\")\n",
    "stat_report(cd_high,\"cd_high\")\n",
    "stat_report(cd_low,\"cd_low\")\n",
    "stat_report(cd_sea_high,\"cd_sea_high\")\n",
    "stat_report(cd_sea_low,\"cd_sea_low\")\n",
    "stat_report(cd_land_high,\"cd_land_high\")\n",
    "stat_report(cd_land_low,\"cd_land_low\")"
   ]
  },
  {
   "cell_type": "markdown",
   "metadata": {},
   "source": [
    "### Data plotting\n",
    "\n",
    "There's a lot more variation in the satellite data, and it does seem to go higher than the model data (with not a great deal of correlation between the two).\n",
    "\n",
    "To do: \n",
    "* addition of error bars for satellite data\n"
   ]
  },
  {
   "cell_type": "code",
   "execution_count": 8,
   "metadata": {},
   "outputs": [
    {
     "data": {
      "image/png": "[encoded data removed]",
      "text/plain": [
       "<Figure size 1332x756 with 9 Axes>"
      ]
     },
     "metadata": {
      "needs_background": "light"
     },
     "output_type": "display_data"
    }
   ],
   "source": [
    "def nh3_plot(cd_plot,ax,titlestring):\n",
    "\n",
    "    xline = np.array([1e12,1e13,1e14,1e15,1e16,1e17])\n",
    "\n",
    "    slope, intercept, r_value, p_value, std_err = stats.linregress(cd_plot.column,cd_plot.nh3)\n",
    "    line = slope*xline+intercept\n",
    "\n",
    "    #ax.set_xscale(\"log\", nonposx='clip')\n",
    "    #ax.set_yscale(\"log\", nonposy='clip')\n",
    "    #ax.scatter(cd_plot.column, cd_plot.nh3)\n",
    "    ax.plot(cd_plot.column, cd_plot.nh3, 'o', xline, line, 'o-')\n",
    "    ax.set_title(titlestring)\n",
    "    ax.set_xlim(1e12,1e17)\n",
    "    ax.set_ylim(1e12,1e17)\n",
    "\n",
    "fig, axes = plt.subplots(3, 3, sharex='all', sharey='all')\n",
    "fig.set_size_inches(18.5, 10.5)\n",
    "axes[2,1].set_xlabel(r'satellite column', fontsize=15)\n",
    "axes[1,0].set_ylabel(r'model', fontsize=15)\n",
    "\n",
    "nh3_plot(cd_all,axes[0,0],\"all data\")\n",
    "nh3_plot(cd_land,axes[0,1],\"land\")\n",
    "nh3_plot(cd_sea,axes[0,2],\"sea\")\n",
    "\n",
    "nh3_plot(cd_high,axes[1,0],\"high ZA\")\n",
    "nh3_plot(cd_low,axes[2,0],\"low ZA\")\n",
    "\n",
    "nh3_plot(cd_land_high,axes[1,1],\"land high\")\n",
    "nh3_plot(cd_sea_high,axes[1,2],\"sea high\")\n",
    "\n",
    "nh3_plot(cd_land_low,axes[2,1],\"land low\")\n",
    "nh3_plot(cd_sea_low,axes[2,2],\"sea low\")\n"
   ]
  },
  {
   "cell_type": "code",
   "execution_count": null,
   "metadata": {},
   "outputs": [],
   "source": []
  }
 ],
 "metadata": {
  "kernelspec": {
   "display_name": "Python 3",
   "language": "python",
   "name": "python3"
  },
  "language_info": {
   "codemirror_mode": {
    "name": "ipython",
    "version": 3
   },
   "file_extension": ".py",
   "mimetype": "text/x-python",
   "name": "python",
   "nbconvert_exporter": "python",
   "pygments_lexer": "ipython3",
   "version": "3.6.6"
  }
 },
 "nbformat": 4,
 "nbformat_minor": 2
}
